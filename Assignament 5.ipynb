{
 "cells": [
  {
   "cell_type": "code",
   "execution_count": 5,
   "id": "7258e018",
   "metadata": {},
   "outputs": [
    {
     "ename": "SyntaxError",
     "evalue": "invalid syntax (Temp/ipykernel_22340/3839203606.py, line 1)",
     "output_type": "error",
     "traceback": [
      "\u001b[1;36m  File \u001b[1;32m\"C:\\Users\\jemc4\\AppData\\Local\\Temp/ipykernel_22340/3839203606.py\"\u001b[1;36m, line \u001b[1;32m1\u001b[0m\n\u001b[1;33m    Escribe una función que pueda decirte si un año (número entero) es bisiesto o no\u001b[0m\n\u001b[1;37m            ^\u001b[0m\n\u001b[1;31mSyntaxError\u001b[0m\u001b[1;31m:\u001b[0m invalid syntax\n"
     ]
    }
   ],
   "source": [
    "Escribe una función que pueda decirte si un año (número entero) es bisiesto o no"
   ]
  },
  {
   "cell_type": "code",
   "execution_count": 6,
   "id": "b56e3eee",
   "metadata": {},
   "outputs": [],
   "source": [
    "def anio_bisiesto(year):\n",
    "    if year%4 == 0 and (year%100 !=0 or year%400 ==0):\n",
    "        print(year, 'Es un año Bisiesto')\n",
    "    else:\n",
    "        print(year, 'No es un año Bisiesto')"
   ]
  },
  {
   "cell_type": "code",
   "execution_count": 7,
   "id": "d2679f34",
   "metadata": {},
   "outputs": [
    {
     "name": "stdout",
     "output_type": "stream",
     "text": [
      "2023 No es un año Bisiesto\n"
     ]
    }
   ],
   "source": [
    "anio_bisiesto(2023)"
   ]
  },
  {
   "cell_type": "code",
   "execution_count": null,
   "id": "63141974",
   "metadata": {},
   "outputs": [],
   "source": []
  }
 ],
 "metadata": {
  "kernelspec": {
   "display_name": "Python 3 (ipykernel)",
   "language": "python",
   "name": "python3"
  },
  "language_info": {
   "codemirror_mode": {
    "name": "ipython",
    "version": 3
   },
   "file_extension": ".py",
   "mimetype": "text/x-python",
   "name": "python",
   "nbconvert_exporter": "python",
   "pygments_lexer": "ipython3",
   "version": "3.9.7"
  }
 },
 "nbformat": 4,
 "nbformat_minor": 5
}
